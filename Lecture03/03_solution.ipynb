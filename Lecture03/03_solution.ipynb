{
 "cells": [
  {
   "cell_type": "markdown",
   "metadata": {},
   "source": [
    "# 1. Python Data Types"
   ]
  },
  {
   "cell_type": "markdown",
   "metadata": {},
   "source": [
    "## Recap on data types\n",
    "\n",
    "Python has several built-in data types, which are categorized into:\n",
    "- Numeric: `int`, `float`\n",
    "- Sequence: `str`, `list`, `tuple`\n",
    "- Mapping: `dict`\n",
    "- Set: `set`\n",
    "- Boolean: `bool`"
   ]
  },
  {
   "cell_type": "markdown",
   "metadata": {},
   "source": [
    "### Numeric Data Types\n",
    "- `int`: Integer, e.g. 1, 2, 3\n",
    "- `float`: Floating point number, e.g. 1.0, -2.5, 3.14\n",
    "- `complex`: Complex number, e.g. 1 + 2j, 3 - 4j"
   ]
  },
  {
   "cell_type": "code",
   "execution_count": null,
   "metadata": {},
   "outputs": [],
   "source": [
    "# Integer\n",
    "int_var = 10\n",
    "print(type(int_var))  # <class 'int'>\n",
    "\n",
    "# Float\n",
    "float_var = 10.5\n",
    "print(type(float_var))  # <class 'float'>\n",
    "\n",
    "# Complex\n",
    "complex_var = 10 + 5j\n",
    "print(type(complex_var))  # <class 'complex'>"
   ]
  },
  {
   "cell_type": "markdown",
   "metadata": {},
   "source": [
    "### Sequence Data Types\n",
    "Sequence data types are **ordered** collections of similar or different data types. The elements in a sequence can be accessed using **indexing**.\n",
    "- `str`: String, e.g. \"hello\", 'world'\n",
    "- `list`: List, e.g. [1, 2, 3], ['a', 'b', 'c']\n",
    "- `tuple`: Tuple, e.g. (1, 2, 3), ('a', 'b', 'c')"
   ]
  },
  {
   "cell_type": "code",
   "execution_count": null,
   "metadata": {},
   "outputs": [],
   "source": [
    "# String\n",
    "str_var = \"Hello, Python!\"\n",
    "print(type(str_var))  # <class 'str'>\n",
    "\n",
    "# List\n",
    "list_var = [1, 2, 3, 4, 5]\n",
    "print(type(list_var))  # <class 'list'>\n",
    "\n",
    "# Tuple\n",
    "tuple_var = (1, 2, 3, 4, 5)\n",
    "print(type(tuple_var))  # <class 'tuple'>"
   ]
  },
  {
   "cell_type": "markdown",
   "metadata": {},
   "source": [
    "You can include anything you want in lists, from other lists, to strings to tuples. Although this behaviour nis allowed, in practise this should be avoided as it can lead ot code which behvaes unpredictably and is tricky for others ( and future you ) to debug."
   ]
  },
  {
   "cell_type": "code",
   "execution_count": null,
   "metadata": {},
   "outputs": [],
   "source": [
    "# You can put anything you want in a list, including other lists\n",
    "\n",
    "elements = [[\"Hydrogen\", \"Helium\", \"Lithium\"], [\"Beryllium\", \"Boron\", \"Carbon\"], [\"Nitrogen\", \"Oxygen\", \"Fluorine\"]]\n",
    "\n",
    "# You can also declare whacky lists like this\n",
    "\n",
    "whacky_list = [1, 'dog', 3.14, [4, 5, 6]]"
   ]
  },
  {
   "cell_type": "markdown",
   "metadata": {},
   "source": [
    "### List Operations\n",
    "\n",
    "You can add elements to the list using the `.append` method."
   ]
  },
  {
   "cell_type": "code",
   "execution_count": null,
   "metadata": {},
   "outputs": [],
   "source": [
    "element_list = [\"Hydrogen\", \"Helium\", \"Lithium\", \"Beryllium\", \"Boron\"]\n",
    "element_list.append(\"Lead\")\n",
    "print(element_list)"
   ]
  },
  {
   "cell_type": "markdown",
   "metadata": {},
   "source": [
    "To add an element to a list at a specific index, you can use the insert method. Write code to add the missing element to the list."
   ]
  },
  {
   "cell_type": "code",
   "execution_count": null,
   "metadata": {},
   "outputs": [],
   "source": [
    "element_list = [\"Hydrogen\", \"Lithium\", \"Beryllium\", \"Boron\"]\n",
    "element_list.insert(1, 'Helium')\n",
    "print(element_list)"
   ]
  },
  {
   "cell_type": "markdown",
   "metadata": {},
   "source": [
    "To remove an element from a list, you can use the remove method. When removing an element from a list, you must specify the value of the element you want to remove. Write code to remove the first element from the list"
   ]
  },
  {
   "cell_type": "code",
   "execution_count": null,
   "metadata": {},
   "outputs": [],
   "source": [
    "element_list.remove(\"Hydrogen\")\n",
    "print(element_list)"
   ]
  },
  {
   "cell_type": "markdown",
   "metadata": {},
   "source": [
    "The 'remove' function simply deletes the element, what If you want to retrieve the element and then delete it? You can use the pop method for this purpose. The pop method takes one argument, the index of the element you want to remove. It has interesting behavior when you don't specify an index, in this case it by default removes the last element from the list. Write code to remove the last element from the list, and then remove the second element. You can access lists in the reverse direction using negative indices, where '-1' refers to the last element, '-2' refers to the second last element and so on."
   ]
  },
  {
   "cell_type": "code",
   "execution_count": null,
   "metadata": {},
   "outputs": [],
   "source": [
    "element_list = [\"Hydrogen\", \"Helium\", \"Lithium\", \"Beryllium\", \"Boron\"]\n",
    "\n",
    "a = element_list.pop(-1)\n",
    "print(a)\n",
    "\n",
    "b = element_list.pop(1)\n",
    "print(b)\n",
    "\n",
    "print(element_list)"
   ]
  },
  {
   "cell_type": "markdown",
   "metadata": {},
   "source": [
    "You can delete all the elements using the clear method"
   ]
  },
  {
   "cell_type": "code",
   "execution_count": null,
   "metadata": {},
   "outputs": [],
   "source": [
    "element_list.clear()\n",
    "print(element_list)"
   ]
  },
  {
   "cell_type": "markdown",
   "metadata": {},
   "source": [
    "Now how about if we have two lists, and we want to combine them into a single list. For this we can just add them using the '+' operator"
   ]
  },
  {
   "cell_type": "code",
   "execution_count": null,
   "metadata": {},
   "outputs": [],
   "source": [
    "element_list_1 = [\"Hydrogen\", \"Helium\", \"Lithium\", \"Beryllium\", \"Boron\"]\n",
    "element_list_2= [\"Nitrogen\", \"Oxygen\", \"Fluorine\"]\n",
    "element_list_3 = element_list_1 + element_list_2\n",
    "print(element_list_3)\n",
    "\n",
    "print(len(element_list_3))"
   ]
  },
  {
   "cell_type": "markdown",
   "metadata": {},
   "source": [
    "#### Indexing\n",
    "- Indexing in Python starts from 0.\n",
    "- Negative indexing is also possible, where -1 refers to the last element, -2 refers to the second last element, and so on.\n",
    "- Slicing can be used to access a range of elements in a sequence.\n",
    "    - The syntax for slicing is `sequence[start:stop:step]`."
   ]
  },
  {
   "cell_type": "code",
   "execution_count": null,
   "metadata": {},
   "outputs": [],
   "source": [
    "# These types are ordered and can be indexed\n",
    "print(str_var[0])\n",
    "print(list_var[3])\n",
    "print(tuple_var[-1])"
   ]
  },
  {
   "cell_type": "code",
   "execution_count": null,
   "metadata": {},
   "outputs": [],
   "source": [
    "print(str_var[0:5])"
   ]
  },
  {
   "cell_type": "markdown",
   "metadata": {},
   "source": [
    "#### Difference between `list` and `tuple`\n",
    "- `list` is mutable, i.e. the elements in a list can be changed or modified.\n",
    "- `tuple` is immutable, i.e. the elements in a tuple cannot be changed or modified."
   ]
  },
  {
   "cell_type": "code",
   "execution_count": null,
   "metadata": {},
   "outputs": [],
   "source": [
    "list_var[0] = 10\n",
    "print(list_var)  # [10, 2, 3, 4, 5]"
   ]
  },
  {
   "cell_type": "code",
   "execution_count": null,
   "metadata": {},
   "outputs": [],
   "source": [
    "tuple_var[0] = 10  # TypeError: 'tuple' object does not support item assignment"
   ]
  },
  {
   "cell_type": "markdown",
   "metadata": {},
   "source": [
    "#### String Methods\n",
    "- `str` has several built-in methods, such as `upper()`, `lower()`, `strip()`, `split()`, `join()`, `find()` etc.\n",
    "- `str` is immutable, i.e. the elements in a string cannot be changed or modified.\n",
    "- String concatenation can be done using the `+` operator.\n",
    "- String formatting can be done using f-strings."
   ]
  },
  {
   "cell_type": "code",
   "execution_count": null,
   "metadata": {},
   "outputs": [],
   "source": [
    "# built in string methods\n",
    "print(str_var.lower())\n",
    "print(str_var.upper())\n",
    "print(str_var.split(\",\"))\n",
    "print(str_var.replace(\"Hello\", \"Hi\"))\n",
    "print(str_var.find(\"Python\"))"
   ]
  },
  {
   "cell_type": "code",
   "execution_count": null,
   "metadata": {},
   "outputs": [],
   "source": [
    "# f string\n",
    "molecules = 'hydrogen oxide'\n",
    "atoms = 3\n",
    "print(f'Water is composed of mostly {molecules} and it has {atoms} atoms')"
   ]
  },
  {
   "cell_type": "markdown",
   "metadata": {},
   "source": [
    "### Set\n",
    "A set is an unordered collection of **unique** elements. It is defined by a pair of curly braces `{}`.\n",
    "- `set`: Set, e.g. {1, 2, 3}, {'a', 'b', 'c'}"
   ]
  },
  {
   "cell_type": "code",
   "execution_count": null,
   "metadata": {},
   "outputs": [],
   "source": [
    "set_var = {1, 2, 3, 4, 5}\n",
    "print(type(set_var))  # <class 'set'>"
   ]
  },
  {
   "cell_type": "code",
   "execution_count": null,
   "metadata": {},
   "outputs": [],
   "source": [
    "# type is unordered and unindexed\n",
    "print(set_var[0])  # TypeError: 'set' object is not subscriptable"
   ]
  },
  {
   "cell_type": "code",
   "execution_count": null,
   "metadata": {},
   "outputs": [],
   "source": [
    "# showcase that unique elements are stored in set\n",
    "set_var = {1, 2, 3, 4, 5, 5, 5, 5, 5}\n",
    "print(set_var)"
   ]
  },
  {
   "cell_type": "markdown",
   "metadata": {},
   "source": [
    "#### Usage of Sets\n",
    "- To eliminate duplicate elements from a list. (*See above*)\n",
    "- To perform mathematical set operations like union, intersection, difference, etc."
   ]
  },
  {
   "cell_type": "code",
   "execution_count": null,
   "metadata": {},
   "outputs": [],
   "source": [
    "# show use cases for sets\n",
    "set_var1 = {1, 2, 3, 4, 5}\n",
    "set_var2 = {4, 5, 6, 7, 8}\n",
    "\n",
    "print(set_var1.union(set_var2))  # {1, 2, 3, 4, 5, 6, 7, 8}\n",
    "print(set_var1.intersection(set_var2))  # {4, 5}\n",
    "print(set_var1.difference(set_var2))  # {1, 2, 3}\n",
    "print(set_var1.symmetric_difference(set_var2))  # {1, 2, 3, 6, 7, 8}"
   ]
  },
  {
   "cell_type": "markdown",
   "metadata": {},
   "source": [
    "### Mapping Data Types\n",
    "A dictionary is a collection which is unordered, changeable and indexed. In Python dictionaries are written with curly brackets, and they have keys and values.\n",
    "- `dict`: Dictionary, e.g. {'amino acid': ['alanine', 'valine'], 'nucleotide': ['adenine', 'thymine']}"
   ]
  },
  {
   "cell_type": "code",
   "execution_count": null,
   "metadata": {},
   "outputs": [],
   "source": [
    "dict_var = {\"halogen\": \"fluorine\", \"noble_gas\": \"helium\", \"alkali_metal\": \"lithium\"}\n",
    "print(type(dict_var))  # <class 'dict'>\n",
    "print('keys:', dict_var.keys())\n",
    "print('values:', dict_var.values())"
   ]
  },
  {
   "cell_type": "markdown",
   "metadata": {},
   "source": [
    "## Exercises"
   ]
  },
  {
   "cell_type": "markdown",
   "metadata": {},
   "source": [
    "### Exercise 1.1:\n",
    "What does this code return?\n",
    "\n",
    "```python\n",
    "my_string = \"2cfo6njs[pwi2r3adcvy\"\n",
    "my_string[0:10:2]\n",
    "```\n",
    "What could the 2 mean in that context?"
   ]
  },
  {
   "cell_type": "code",
   "execution_count": null,
   "metadata": {},
   "outputs": [],
   "source": [
    "# type to check your answer\n"
   ]
  },
  {
   "cell_type": "markdown",
   "metadata": {},
   "source": [
    "As a final excerise on slicing, you will write code for finding the middle index of a list and then use list slicing to split the list into two sublists. Put it inside the function `split_list` and test it using the `test_split` function. When dividing a list in two, think about the edge cases you must consider. Will your code work for both even and odd length's of lists? What about empty lists? Remember that lists in Python have indexes which start from `0`, so the `7th` element has index `6`. Not correctly accounting for this is an extremely common problem in programming and can be tricky to debug. \n",
    "\n",
    "First, implement the simplest case, where the list length is an even number and write code for this. Your output should be the middle index, and the two equal lenght halves of the list. Make sure to calculate the list slices using simple mathematical operations in the code"
   ]
  },
  {
   "cell_type": "code",
   "execution_count": null,
   "metadata": {},
   "outputs": [],
   "source": [
    "test_even = [\"Hydrogen\", \"Helium\", \"Lithium\", \"Beryllium\", \"Boron\", \"Carbon\", \"Nitrogen\", \"Oxygen\", \"Fluorine\", \"Sodium\"]\n",
    "test_odd = [\"Hydrogen\", \"Helium\", \"Lithium\", \"Beryllium\", \"Boron\", \"Carbon\", \"Nitrogen\", \"Oxygen\", \"Fluorine\"]\n",
    "\n",
    "\n",
    "middle_index = len(test_even) // 2\n",
    "first_half = test_even[:middle_index]\n",
    "second_half = test_even[middle_index:]\n",
    "\n",
    "assert (middle_index, first_half, second_half) == (5, [\"Hydrogen\", \"Helium\", \"Lithium\", \"Beryllium\", \"Boron\"], [\"Carbon\", \"Nitrogen\", \"Oxygen\", \"Fluorine\", \"Sodium\"])"
   ]
  },
  {
   "cell_type": "markdown",
   "metadata": {},
   "source": [
    "Now extend it to work with odd numbered lists. It is good practise when splitting lists into an even and odd partition, to have the longest segement be the lowest segement, this is indicated in the test case."
   ]
  },
  {
   "cell_type": "code",
   "execution_count": null,
   "metadata": {},
   "outputs": [],
   "source": [
    "test_even = [\"Hydrogen\", \"Helium\", \"Lithium\", \"Beryllium\", \"Boron\", \"Carbon\", \"Nitrogen\", \"Oxygen\", \"Fluorine\", \"Sodium\"]\n",
    "test_odd = [\"Hydrogen\", \"Helium\", \"Lithium\", \"Beryllium\", \"Boron\", \"Carbon\", \"Nitrogen\", \"Oxygen\", \"Fluorine\"]\n",
    "\n",
    "\n",
    "\n",
    "middle_index = (len(test_odd) + 1) // 2\n",
    "first_half = test_odd[:middle_index]\n",
    "second_half = test_odd[middle_index:]\n",
    "\n",
    "assert (middle_index, first_half, second_half) == (5, [\"Hydrogen\", \"Helium\", \"Lithium\", \"Beryllium\", \"Boron\"], [\"Carbon\", \"Nitrogen\", \"Oxygen\", \"Fluorine\"])"
   ]
  },
  {
   "cell_type": "markdown",
   "metadata": {},
   "source": [
    "### Exercise 1.2:\n",
    "\n",
    "How can you make this calculation work?\n",
    "\n",
    "```python\n",
    "a = 5\n",
    "b = \"6\"\n",
    "a + b\n",
    "```"
   ]
  },
  {
   "cell_type": "code",
   "execution_count": null,
   "metadata": {},
   "outputs": [],
   "source": [
    "# correct here\n",
    "a = 5\n",
    "b = \"6\"\n",
    "print(a + int(b))  # 11"
   ]
  },
  {
   "cell_type": "markdown",
   "metadata": {},
   "source": [
    "### Exercise 1.3:\n",
    "\n",
    "Now you have seen that Python has interoperability of certain variable types. \n",
    "\n",
    "Next we will look at boolean variables. These hold a single value, True or False. You can perform operations on them: 'AND', 'OR' and 'NOT'\n",
    "\n",
    "First, evaluate the expressions below by hand, then check yours answers with some python code.\n",
    "\n",
    "a = False\n",
    "b = True\n",
    "c = False\n",
    "\n",
    "1. a and b        = ...\n",
    "2. a or b         = ...\n",
    "3. not a          = ...\n",
    "4. not b and c    = ...\n",
    "5. (a and b) or c = ..."
   ]
  },
  {
   "cell_type": "markdown",
   "metadata": {},
   "source": [
    "Let's solve by hand first:\n",
    "\n",
    "a and b\n",
    "\n",
    "We have False and True\n",
    "When using AND, both values must be True to get True\n",
    "Therefore: False\n",
    "\n",
    "\n",
    "a or b\n",
    "\n",
    "We have False or True\n",
    "With OR, only one value needs to be True to get True\n",
    "Therefore: True\n",
    "\n",
    "\n",
    "not a\n",
    "\n",
    "We have not False\n",
    "NOT reverses the boolean value\n",
    "Therefore: True\n",
    "\n",
    "\n",
    "not b and c\n",
    "\n",
    "First evaluate not b: not True = False\n",
    "Then False and False\n",
    "Therefore: False\n",
    "\n",
    "\n",
    "(a and b) or c\n",
    "\n",
    "First evaluate what's in parentheses: False and True = False\n",
    "Then False or False\n",
    "Therefore: False\n",
    "\n",
    "\n",
    "\n"
   ]
  },
  {
   "cell_type": "code",
   "execution_count": null,
   "metadata": {},
   "outputs": [],
   "source": [
    " = False\n",
    "b = True\n",
    "c = False\n",
    "\n",
    "# 1. a and b\n",
    "print(\"1.\", a and b)  # False\n",
    "# 2. a or b\n",
    "print(\"2.\", a or b)   # True\n",
    "# 3. not a\n",
    "print(\"3.\", not a)    # True\n",
    "# 4. not b and c\n",
    "print(\"4.\", not b and c)  # False\n",
    "# 5. (a and b) or c\n",
    "print(\"5.\", (a and b) or c)  # False"
   ]
  },
  {
   "cell_type": "markdown",
   "metadata": {},
   "source": [
    "Now we have a concept of booleans we can think about conditional statements. These are useful if you want to be able to execute seperate branches of code, depending on your input. An 'if' statement evaluates a boolean expression and in the case of an expression 'True' allows the code to enter the execution block. Blocks are marked by indents. \n",
    "\n",
    "First, WITHOUT running the code below, determine its output by hand. It is an important skill to be able to understand what a piece of code does without running it."
   ]
  },
  {
   "cell_type": "code",
   "execution_count": 1,
   "metadata": {},
   "outputs": [
    {
     "name": "stdout",
     "output_type": "stream",
     "text": [
      "Answer 3\n"
     ]
    }
   ],
   "source": [
    "a = True\n",
    "b = False\n",
    "c = True\n",
    "\n",
    "if a:\n",
    "    if not c:\n",
    "        print('Answer 1')\n",
    "    elif c and b:\n",
    "        print('Answer 2')\n",
    "    print('Answer 3')\n",
    "else:\n",
    "    print('Answer 4')"
   ]
  },
  {
   "cell_type": "markdown",
   "metadata": {},
   "source": [
    "### Exercise 1.4\n",
    "\n",
    "Sometimes we won't have the option of using booleans in our code, for example we might want to evaluate if a String or and Integer evaluates as True or False. For this case, Python allows the evaluation of conditional statements on non-boolean inputs. Try out various combinations of the below variables with the goal of finding out what values for strings and integer data types evaluate to True or False."
   ]
  },
  {
   "cell_type": "code",
   "execution_count": null,
   "metadata": {},
   "outputs": [],
   "source": [
    "a = 'Hydrogen'\n",
    "b = 'oxygen'\n",
    "c = 1\n",
    "d = 0\n",
    "e = ''\n",
    "f = -3\n",
    "d = None\n",
    "\n",
    "### Your code here"
   ]
  },
  {
   "cell_type": "markdown",
   "metadata": {},
   "source": [
    "### Exercise 1.5:\n",
    "Print out the first letter of every word in the string.\n",
    "\n",
    "```python\n",
    "sentence = 'Sober Physicists Don’t Find Giraffes Hiding In Kitchens'\n",
    "```\n",
    "What do you observe?"
   ]
  },
  {
   "cell_type": "code",
   "execution_count": 5,
   "metadata": {},
   "outputs": [
    {
     "name": "stdout",
     "output_type": "stream",
     "text": [
      "S\n",
      "P\n",
      "D\n",
      "F\n",
      "G\n",
      "H\n",
      "I\n",
      "K\n"
     ]
    }
   ],
   "source": [
    "sentence = 'Sober Physicists Don’t Find Giraffes Hiding In Kitchens'\n",
    "words = sentence.split(\" \")\n",
    "\n",
    "for word in words:\n",
    "    print(word[0])"
   ]
  },
  {
   "cell_type": "markdown",
   "metadata": {},
   "source": [
    "### Exercise 1.6:\n",
    "\n",
    "1. Create a dictionary that represents the following table:\n",
    " \n",
    "| Base | Acid |\n",
    "|------|------|\n",
    "| 'NaOH' | 'HCl' |\n",
    "| 'KOH' | 'H2SO4' |\n",
    "| 'Ca(OH)2' | 'HNO3' |\n",
    "\n",
    "2. Add a new base to the dictionary: `NH4OH`.\n",
    "3. Print out the categories and chemicals. "
   ]
  },
  {
   "cell_type": "code",
   "execution_count": null,
   "metadata": {},
   "outputs": [],
   "source": [
    "chemicals = {\n",
    "    'NaOH': 'HCl',\n",
    "    'KOH': 'H2SO4',\n",
    "    'Ca(OH)2': 'HNO3'\n",
    "}\n",
    "chemicals['NH4OH'] = ''\n",
    "\n",
    "print(\"Bases:\", list(chemicals.keys()))\n",
    "print(\"Acids:\", list(chemicals.values()))\n",
    "\n",
    "# For a more detailed view, we can also print each pair:\n",
    "print(\"\\nBase-Acid Pairs:\")\n",
    "for base, acid in chemicals.items():\n",
    "    print(f\"{base}: {acid}\")"
   ]
  },
  {
   "cell_type": "markdown",
   "metadata": {},
   "source": [
    "# 2. Control Structures - Loops\n",
    "\n",
    "Now we will have a look at control flow in code. If you have a collection of elements like a list, you might want to iterate over each element and peform an action. First, lets look at the `while` loop. This loops checks a condition, and then if the condition evaluates to `True`, executes a block of code. After the code block is executed it returns to the condition and checks it again. "
   ]
  },
  {
   "cell_type": "code",
   "execution_count": 6,
   "metadata": {},
   "outputs": [
    {
     "name": "stdout",
     "output_type": "stream",
     "text": [
      "Current pH: 2\n",
      "Solution is too acidic. Adding a base to increase pH.\n",
      "Current pH: 3\n",
      "Solution is too acidic. Adding a base to increase pH.\n",
      "Current pH: 4\n",
      "Solution is too acidic. Adding a base to increase pH.\n",
      "Current pH: 5\n",
      "Solution is too acidic. Adding a base to increase pH.\n",
      "Current pH: 6\n",
      "Solution is too acidic. Adding a base to increase pH.\n",
      "Solution is now neutral.\n"
     ]
    }
   ],
   "source": [
    "pH = 2  # Assume we start the pH at 2 (which is acidic)\n",
    "\n",
    "while pH != 7:  # while the pH is not neutral\n",
    "    print(f\"Current pH: {pH}\")\n",
    "    if pH < 7:  # if the environment is acidic\n",
    "        print(\"Solution is too acidic. Adding a base to increase pH.\")\n",
    "        pH += 1  # add a base to increase the pH\n",
    "    elif pH > 7:  # if the environment is basic\n",
    "        print(\"Solution is too basic. Adding an acid to decrease pH.\")\n",
    "        pH -= 1  # add an acid to reduce the pH\n",
    "        \n",
    "print(\"Solution is now neutral.\")"
   ]
  },
  {
   "cell_type": "markdown",
   "metadata": {},
   "source": [
    "We can also use `while` loops to iterate over a sequence of numbers."
   ]
  },
  {
   "cell_type": "code",
   "execution_count": 7,
   "metadata": {},
   "outputs": [
    {
     "name": "stdout",
     "output_type": "stream",
     "text": [
      "Element 1: Hydrogen\n",
      "Element 2: Helium\n",
      "Element 3: Lithium\n",
      "Element 4: Beryllium\n",
      "Element 5: Boron\n",
      "Element 6: Carbon\n",
      "Element 7: Nitrogen\n",
      "Element 8: Oxygen\n",
      "Element 9: Fluorine\n"
     ]
    }
   ],
   "source": [
    "counter = 0\n",
    "max_count = 9\n",
    "\n",
    "# Here is the list of the first nine chemical elements:\n",
    "elements = [\"Hydrogen\", \"Helium\", \"Lithium\", \"Beryllium\", \"Boron\", \"Carbon\", \"Nitrogen\", \"Oxygen\", \"Fluorine\"]\n",
    "\n",
    "while counter < max_count:\n",
    "    # Here we print the element at the current index\n",
    "    # Note the adjustment for 0-based indexing\n",
    "    print(f\"Element {counter + 1}: {elements[counter]}\")\n",
    "    counter += 1"
   ]
  },
  {
   "cell_type": "markdown",
   "metadata": {},
   "source": [
    "We can use two additional control flows in iterations.. `break` immediately terminates the loop iterations and `continue` skips the current iteration of the loop, but the loop continues to run.\n",
    "\n",
    "Given this information, what will be the output of the program below?"
   ]
  },
  {
   "cell_type": "code",
   "execution_count": null,
   "metadata": {},
   "outputs": [],
   "source": [
    "elements = [\"Iron\", \"Copper\", \"Zinc\", \"Gold\", \"Silver\", \"Platinum\"]\n",
    "\n",
    "for element in elements:\n",
    "    if element == \"Copper\":\n",
    "        continue\n",
    "    if element == \"Gold\":\n",
    "        break\n",
    "    print(element)"
   ]
  },
  {
   "cell_type": "markdown",
   "metadata": {},
   "source": [
    "### For Loops\n",
    "\n",
    "A for loop in Python is a way to repeat code for each item in a sequence. The basic syntax looks like this:"
   ]
  },
  {
   "cell_type": "code",
   "execution_count": null,
   "metadata": {},
   "outputs": [],
   "source": [
    "for item in iterable:\n",
    "    # do something with item"
   ]
  },
  {
   "cell_type": "markdown",
   "metadata": {},
   "source": [
    "Iterables are objects in Python that contain a sequence of elements - they can be \"iterated over\" one element at a time. Common iterables include:"
   ]
  },
  {
   "cell_type": "code",
   "execution_count": null,
   "metadata": {},
   "outputs": [],
   "source": [
    "noble_gases = [\"Hydrogen\", \"Neon\", \"Argon\"]\n",
    "for gas in noble_gases:\n",
    "    print(gas)\n",
    "\n",
    "# We can also iterate in reverse\n",
    "for gas in reversed(noble_gases):\n",
    "    print(gas)\n",
    "\n",
    "# Strings (iterate over each character)\n",
    "name = \"Lithium\"\n",
    "for letter in name:\n",
    "    print(letter)\n",
    "\n",
    "# Range (generates a sequence of numbers)\n",
    "for number in range(3):\n",
    "    print(number)  # Prints 0, 1, 2"
   ]
  },
  {
   "cell_type": "markdown",
   "metadata": {},
   "source": [
    "The beauty of for loops is their simplicity - you don't need to manage indexes or worry about when to stop. Python automatically handles iterating through all elements and stops when it reaches the end."
   ]
  },
  {
   "cell_type": "markdown",
   "metadata": {},
   "source": [
    "However, if you want to iterate over a list via its index using a for loop you can do it in one of the two the following ways."
   ]
  },
  {
   "cell_type": "code",
   "execution_count": null,
   "metadata": {},
   "outputs": [],
   "source": [
    "elements = [\"Hydrogen\", \"Helium\", \"Lithium\", \"Beryllium\", \"Boron\", \"Carbon\", \"Nitrogen\", \"Oxygen\", \"Fluorine\"]\n",
    "\n",
    "for idx in range(len(elements)):\n",
    "    print(f\"{idx}, {elements[idx]}\")\n",
    "\n",
    "for idx, element in enumerate(elements):\n",
    "    print(f\"{idx}, {element}\")"
   ]
  },
  {
   "cell_type": "markdown",
   "metadata": {},
   "source": [
    "Its important to know that modifying the 'element' that the for loop produces does not alter the original list."
   ]
  },
  {
   "cell_type": "code",
   "execution_count": null,
   "metadata": {},
   "outputs": [],
   "source": [
    "elements = [\"Hydrogen\", \"Helium\", \"Lithium\", \"Beryllium\", \"Boron\", \"Carbon\", \"Nitrogen\", \"Oxygen\", \"Fluorine\"]\n",
    "\n",
    "for idx, element in enumerate(reversed(elements)):\n",
    "    element = element.lower() + ' : ' + str(idx + 1)\n",
    "\n",
    "print(elements)"
   ]
  },
  {
   "cell_type": "markdown",
   "metadata": {},
   "source": [
    "If we wish to modify the original list, we can try the naive approach below. The code is trying to reverse the list and add atomic numbers. Before running the code, can you see what will go wrong?"
   ]
  },
  {
   "cell_type": "code",
   "execution_count": null,
   "metadata": {},
   "outputs": [],
   "source": [
    "elements = [\"Hydrogen\", \"Helium\", \"Lithium\", \"Beryllium\", \"Boron\", \"Carbon\", \"Nitrogen\", \"Oxygen\", \"Fluorine\"]\n",
    "\n",
    "for idx, element in enumerate(reversed(elements)):\n",
    "    elements[idx] = element.lower() + ' : ' + str(len(elements) - idx)"
   ]
  },
  {
   "cell_type": "markdown",
   "metadata": {},
   "source": [
    "### Exercise 2.1:\n",
    "\n",
    "Implement a method to reverse a list and the corresponding atom numbers. As a hint, consider creating a new list."
   ]
  },
  {
   "cell_type": "code",
   "execution_count": null,
   "metadata": {},
   "outputs": [],
   "source": [
    "elements = [\"Hydrogen\", \"Helium\", \"Lithium\", \"Beryllium\", \"Boron\", \"Carbon\", \"Nitrogen\", \"Oxygen\", \"Fluorine\"]\n",
    "\n",
    "# Create a new list with transformed elements\n",
    "new_elements = [(elements[i].lower() + ' : ' + str(len(elements) - i)) \n",
    "                for i in range(len(elements))]\n",
    "\n",
    "# Copy back to original list in reverse order\n",
    "for i in range(len(elements)):\n",
    "    elements[i] = new_elements[len(elements) - 1 - i]"
   ]
  },
  {
   "cell_type": "markdown",
   "metadata": {},
   "source": [
    "### Exercise 2.2:\n",
    "\n",
    "Can you think of a way to reverse the list *in-place*, ie without creating an entirely new list?"
   ]
  },
  {
   "cell_type": "code",
   "execution_count": null,
   "metadata": {},
   "outputs": [],
   "source": [
    "elements = [\"Hydrogen\", \"Helium\", \"Lithium\", \"Beryllium\", \"Boron\", \"Carbon\", \"Nitrogen\", \"Oxygen\", \"Fluorine\"]\n",
    "\n",
    "# Only iterate through half the list to swap elements\n",
    "for i in range(len(elements) // 2):\n",
    "    # Save the values before transformation\n",
    "    front_val = elements[i]\n",
    "    back_val = elements[len(elements) - 1 - i]\n",
    "    \n",
    "    # Transform and swap elements\n",
    "    elements[i] = back_val.lower() + ' : ' + str(i + 1)\n",
    "    elements[len(elements) - 1 - i] = front_val.lower() + ' : ' + str(len(elements) - i)\n",
    "\n",
    "# If list length is odd, handle middle element\n",
    "if len(elements) % 2 == 1:\n",
    "    mid = len(elements) // 2\n",
    "    elements[mid] = elements[mid].lower() + ' : ' + str(mid + 1)"
   ]
  },
  {
   "cell_type": "markdown",
   "metadata": {},
   "source": [
    "### Exercise 2.3:\n",
    "\n",
    "For the following group of problems, your task is to work out what the output of the code will be without running it. Check your answer by executing the program. If you get them wrong, try to go through the code step by step and double check your assumptions about how each line of code works."
   ]
  },
  {
   "cell_type": "code",
   "execution_count": 8,
   "metadata": {},
   "outputs": [
    {
     "name": "stdout",
     "output_type": "stream",
     "text": [
      "10\n",
      "9\n",
      "8\n",
      "7\n",
      "6\n",
      "5\n",
      "4\n",
      "3\n",
      "2\n"
     ]
    }
   ],
   "source": [
    "numa = 11\n",
    "while numa > 2.5:\n",
    "    numa = numa - 1\n",
    "    print(numa)"
   ]
  },
  {
   "cell_type": "code",
   "execution_count": 9,
   "metadata": {},
   "outputs": [
    {
     "name": "stdout",
     "output_type": "stream",
     "text": [
      "0.0\n",
      "0.8\n",
      "1.6\n",
      "2.4\n",
      "3.2\n"
     ]
    }
   ],
   "source": [
    "numb = 2.5\n",
    "for i in range(0, 10, 2):\n",
    "    pass\n",
    "    print(i/numb)\n"
   ]
  },
  {
   "cell_type": "code",
   "execution_count": 10,
   "metadata": {},
   "outputs": [
    {
     "name": "stdout",
     "output_type": "stream",
     "text": [
      "10.2\n",
      "9.2\n",
      "8.2\n",
      "7.199999999999999\n"
     ]
    }
   ],
   "source": [
    "numc = 10.2 \n",
    "while True:\n",
    "    if numc < 6.2:\n",
    "        break\n",
    "    print(numc)\n",
    "    numc -= 1"
   ]
  },
  {
   "cell_type": "code",
   "execution_count": 12,
   "metadata": {},
   "outputs": [
    {
     "name": "stdout",
     "output_type": "stream",
     "text": [
      "Collected string is 0124F0124F?!?\n"
     ]
    }
   ],
   "source": [
    "collected_strings = []\n",
    "\n",
    "for i in range(1, 5):\n",
    "    if i % 2 == 0:  \n",
    "        for j in range(5):\n",
    "            if j == 3:\n",
    "                break\n",
    "                collected_strings.append(str(j))\n",
    "        collected_strings.append(str('F'))\n",
    "    else:  \n",
    "        for j in range(5):\n",
    "            if j == 3:\n",
    "                continue\n",
    "            elif j == 4:\n",
    "                pass\n",
    "            collected_strings.append(str(j))\n",
    "\n",
    "for i in range(3):\n",
    "    if i == 1:\n",
    "        collected_strings.append(\"!\")\n",
    "        continue\n",
    "    collected_strings.append(\"?\")\n",
    "\n",
    "collect_str = \"\".join(collected_strings)\n",
    "print(f'Collected string is {collect_str}')"
   ]
  },
  {
   "cell_type": "markdown",
   "metadata": {},
   "source": [
    "The code provided in this question is buggy. Do not execute it. What do you think the programmer intended this code to do? Jot down a table that shows the value of the variables at each iteration. This shoudl give you a clear understand of why the code is buggy. Once you have done so, modify the code such that it is no longer buggy. Note due to the lack of comments indicating what the code is attempting to do, there are several possible answers for this."
   ]
  },
  {
   "cell_type": "code",
   "execution_count": 13,
   "metadata": {},
   "outputs": [
    {
     "name": "stdout",
     "output_type": "stream",
     "text": [
      "1.0\n"
     ]
    }
   ],
   "source": [
    "\n",
    "n = 10 \n",
    "i = 10\n",
    "# In this answer we assume the programmer was trying to divide the number in half until it reaches 1\n",
    "while i != 1:\n",
    "    # by changing the condition to i != 1, the loop will terminate correctly\n",
    "    if i % 2 == 0:\n",
    "        i=i/2\n",
    "    else: \n",
    "        i=i+1\n",
    "\n",
    "print(i)"
   ]
  },
  {
   "cell_type": "markdown",
   "metadata": {},
   "source": [
    "# 3. Setting paths\n",
    "\n",
    "Setting paths when coding is important. It is a good practice to set the paths to folders/data in a way that is reproducible and especially shareable. This is important when sharing code with others, or when you are working on a project that requires data from different sources. Paths also look different on different operating systems (Windows, Mac, Linux), so it is important to set paths in a way that is compatible with all operating systems. Luckily, there are libraries like `os` and `pathlib` that can help us with that. We will look into `pathlib` in this notebook."
   ]
  },
  {
   "cell_type": "markdown",
   "metadata": {},
   "source": [
    "## Introduction to Pathlib\n",
    "An introduction to the pathlib module, which provides a way to handle filesystem paths."
   ]
  },
  {
   "cell_type": "code",
   "execution_count": null,
   "metadata": {},
   "outputs": [],
   "source": [
    "# Introduction to Pathlib\n",
    "\n",
    "# Importing the pathlib module\n",
    "from pathlib import Path\n",
    "\n",
    "# Creating a Path object\n",
    "p = Path('.')\n",
    "\n",
    "# Displaying the current directory\n",
    "print(p.resolve())\n",
    "\n",
    "# Listing all files in the current directory\n",
    "for file in p.iterdir():\n",
    "    print(file)\n",
    "\n",
    "# Creating a new directory\n",
    "new_dir = p / 'new_directory'\n",
    "new_dir.mkdir(exist_ok=True)\n",
    "\n",
    "# Checking if the new directory exists\n",
    "print(new_dir.exists())\n",
    "\n",
    "# Creating a new file in the new directory\n",
    "new_file = new_dir / 'new_file.txt'\n",
    "new_file.touch()\n",
    "\n",
    "# Checking if the new file exists\n",
    "print(new_file.exists())\n",
    "\n",
    "# Deleting the new file\n",
    "new_file.unlink()\n",
    "\n",
    "# Checking if the new file exists\n",
    "print(new_file.exists())\n",
    "\n",
    "# Deleting the new directory\n",
    "new_dir.rmdir()\n",
    "\n",
    "# Checking if the new directory exists\n",
    "print(new_dir.exists())"
   ]
  },
  {
   "cell_type": "markdown",
   "metadata": {},
   "source": [
    "## Exercises"
   ]
  },
  {
   "cell_type": "markdown",
   "metadata": {},
   "source": [
    "### Exercise 2.1:\n",
    "\n",
    "1. Create a directory called `ex_folder` in the current working directory. \n",
    "2. Check after creation if the directory exists.\n",
    "3. Create a file called `ex_file.txt` in the `ex_folder` directory."
   ]
  },
  {
   "cell_type": "code",
   "execution_count": null,
   "metadata": {},
   "outputs": [],
   "source": [
    "cwd = Path('.')\n",
    "print(cwd.resolve())# 1."
   ]
  },
  {
   "cell_type": "code",
   "execution_count": null,
   "metadata": {},
   "outputs": [],
   "source": [
    "# create a directory called ex_folder in the current working direcotry\n",
    "ex_folder = Path(cwd / 'ex_folder')\n",
    "ex_folder.mkdir(exist_ok=True)"
   ]
  },
  {
   "cell_type": "code",
   "execution_count": null,
   "metadata": {},
   "outputs": [],
   "source": [
    "# check if ex_folder exists\n",
    "print(ex_folder.exists())"
   ]
  },
  {
   "cell_type": "code",
   "execution_count": null,
   "metadata": {},
   "outputs": [],
   "source": [
    "# create a file called ex_file.txt in ex_folder\n",
    "ex_file = ex_folder / 'ex_file.txt'\n",
    "ex_file.touch()"
   ]
  },
  {
   "cell_type": "markdown",
   "metadata": {},
   "source": [
    "### Exercise 3.2:\n",
    "\n",
    "Correct these paths so that it works on all operating systems, if possible. \n",
    "```python\n",
    "path1 = 'C:\\Path\\to\\your\\working\\dir\\ex_file.txt'\n",
    "path2 = 'Path/to/your/working/dir/ex_file.txt'\n",
    "path3 = '/Users/neeser/Documents/teaching/CH-200_PracticalProgrammingChem/practical-programming-in-chemistry-exercises/week_01/ex_folder/ex_file.txt\n",
    "```\n",
    "\n",
    "What are the issues with these paths?"
   ]
  },
  {
   "cell_type": "code",
   "execution_count": null,
   "metadata": {},
   "outputs": [],
   "source": [
    "path1 = Path(ex_folder / 'ex_file.txt')\n",
    "path2 = Path(cwd / 'ex_folder' / 'ex_file.txt')\n",
    "path3 = Path('/Users/neeser/Documents/teaching/CH-200_PracticalProgrammingChem/practical-programming-in-chemistry-exercises/week_01/ex_folder/ex_file.txt')\n",
    "path1 = Path(path1)\n",
    "path2 = Path(path2)\n",
    "print(path1.exists())\n",
    "print(path2.exists())\n",
    "print(path3.exists())"
   ]
  },
  {
   "cell_type": "markdown",
   "metadata": {},
   "source": [
    "### Exercise 3.3:\n",
    "\n",
    "Delete the `ex_folder` directory and its contents. Check if the directory exists after deletion."
   ]
  },
  {
   "cell_type": "code",
   "execution_count": null,
   "metadata": {},
   "outputs": [],
   "source": [
    "# delete the directory and its contents\n",
    "# delete the directory and its contents\n",
    "ex_file.unlink()\n",
    "ex_folder.rmdir()"
   ]
  },
  {
   "cell_type": "code",
   "execution_count": null,
   "metadata": {},
   "outputs": [],
   "source": [
    "# check if ex_folder exists\n",
    "print(ex_folder.exists())"
   ]
  }
 ],
 "metadata": {
  "kernelspec": {
   "display_name": "base",
   "language": "python",
   "name": "python3"
  },
  "language_info": {
   "codemirror_mode": {
    "name": "ipython",
    "version": 3
   },
   "file_extension": ".py",
   "mimetype": "text/x-python",
   "name": "python",
   "nbconvert_exporter": "python",
   "pygments_lexer": "ipython3",
   "version": "3.11.5"
  },
  "orig_nbformat": 4
 },
 "nbformat": 4,
 "nbformat_minor": 2
}
