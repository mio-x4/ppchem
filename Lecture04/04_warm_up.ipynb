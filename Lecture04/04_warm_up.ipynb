{
 "cells": [
  {
   "cell_type": "markdown",
   "metadata": {},
   "source": [
    "# Recap!"
   ]
  },
  {
   "cell_type": "markdown",
   "metadata": {},
   "source": [
    "## Python Data Types and Paths"
   ]
  },
  {
   "cell_type": "markdown",
   "metadata": {},
   "source": [
    "### Recap on Data Types\n",
    "\n",
    "* Python has several built-in data types:\n",
    "* Numeric: `int`, `float`\n",
    "* Sequence: `str`, `list`, `tuple`\n",
    "* Mapping: `dict`\n",
    "* Set: `set`\n",
    "* Boolean: `bool`"
   ]
  },
  {
   "cell_type": "markdown",
   "metadata": {},
   "source": [
    "### Numeric Data Types"
   ]
  },
  {
   "cell_type": "code",
   "execution_count": null,
   "metadata": {},
   "outputs": [],
   "source": [
    "# Integers and floats\n",
    "int_example = 3\n",
    "float_example = 3.14\n",
    "\n",
    "## Sequence Data Types\n",
    "# Strings, lists, and tuples\n",
    "str_example = \"Hello, Python!\"\n",
    "list_example = [1, 2, 3]\n",
    "tuple_example = (\"a\", \"b\", \"c\")\n",
    "\n",
    "# Indexing and slicing\n",
    "print(list_example[0])  # First element of list\n",
    "print(str_example[-1])  # Last character of string\n",
    "print(tuple_example[1:])  # Slicing tuple from second element to end\n"
   ]
  },
  {
   "cell_type": "markdown",
   "metadata": {},
   "source": [
    "## Lists, Dictionaries, Loops, and Iterations"
   ]
  },
  {
   "cell_type": "markdown",
   "metadata": {},
   "source": [
    "### Lists and Dictionaries"
   ]
  },
  {
   "cell_type": "code",
   "execution_count": null,
   "metadata": {},
   "outputs": [],
   "source": [
    "# Adding and accessing elements\n",
    "list_example.append(4)  # Adding an element to a list\n",
    "dict_example = {\"key1\": \"value1\", \"key2\": \"value2\"}\n",
    "print(dict_example[\"key1\"])  # Accessing a value from a dictionary\n",
    "\n",
    "## Loops and Iterations\n",
    "# For loop with a list\n",
    "for item in list_example:\n",
    "    print(item)\n"
   ]
  },
  {
   "cell_type": "code",
   "execution_count": null,
   "metadata": {},
   "outputs": [],
   "source": [
    "# While loop example\n",
    "print(\"While loop...\")\n",
    "i = 0\n",
    "while i < len(list_example):\n",
    "    print(list_example[i])\n",
    "    i += 1\n",
    "\n",
    "# Or equivalently in a for loop\n",
    "print(\"For loop...\")\n",
    "for element in list_example:\n",
    "    print(element)"
   ]
  },
  {
   "cell_type": "code",
   "execution_count": null,
   "metadata": {},
   "outputs": [],
   "source": [
    "# Boolean variables and conditional statements\n",
    "a = True\n",
    "b = False\n",
    "if a and b:\n",
    "    print(\"Both are true\")\n",
    "elif a or b:\n",
    "    print(\"At least one is true\")  # this will be printed!\n",
    "else:\n",
    "    print(\"Neither is true\")"
   ]
  }
 ],
 "metadata": {
  "kernelspec": {
   "display_name": "ppchem",
   "language": "python",
   "name": "python3"
  },
  "language_info": {
   "codemirror_mode": {
    "name": "ipython",
    "version": 3
   },
   "file_extension": ".py",
   "mimetype": "text/x-python",
   "name": "python",
   "nbconvert_exporter": "python",
   "pygments_lexer": "ipython3",
   "version": "3.12.0"
  }
 },
 "nbformat": 4,
 "nbformat_minor": 2
}
